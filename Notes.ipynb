{
 "cells": [
  {
   "cell_type": "markdown",
   "metadata": {},
   "source": [
    "## Lesson 1"
   ]
  },
  {
   "cell_type": "code",
   "execution_count": 12,
   "metadata": {
    "collapsed": false
   },
   "outputs": [],
   "source": [
    "# Importing packages and data\n",
    "\n",
    "import pandas as pd\n",
    "import os\n",
    "\n",
    "data = pd.read_csv(location of data)"
   ]
  },
  {
   "cell_type": "code",
   "execution_count": 3,
   "metadata": {
    "collapsed": false,
    "scrolled": true
   },
   "outputs": [
    {
     "name": "stdout",
     "output_type": "stream",
     "text": [
      "2.0\n",
      "0.5\n"
     ]
    }
   ],
   "source": [
    "# Calling functions\n",
    "\n",
    "def division(numerator, denominator):\n",
    "    result = float(numerator) / denominator\n",
    "    print(result)\n",
    "\n",
    "division(20, 10)\n",
    "division(10, 20)"
   ]
  },
  {
   "cell_type": "code",
   "execution_count": 5,
   "metadata": {
    "collapsed": false
   },
   "outputs": [
    {
     "name": "stdout",
     "output_type": "stream",
     "text": [
      "['the', 'cow', 'jumped', 'over', 'the', 'moon']\n"
     ]
    }
   ],
   "source": [
    "# Split string\n",
    "\n",
    "my_string = \"the cow jumped over the moon\"\n",
    "words = my_string.split()\n",
    "print(words)"
   ]
  },
  {
   "cell_type": "code",
   "execution_count": 15,
   "metadata": {
    "collapsed": false
   },
   "outputs": [
    {
     "data": {
      "text/plain": [
       "6"
      ]
     },
     "execution_count": 15,
     "metadata": {},
     "output_type": "execute_result"
    }
   ],
   "source": [
    "# how many observations are in this dataframe - number of rows or number of items in an array\n",
    "len(words)"
   ]
  },
  {
   "cell_type": "code",
   "execution_count": null,
   "metadata": {
    "collapsed": false
   },
   "outputs": [],
   "source": [
    "# joins array\n",
    ".join(words)"
   ]
  },
  {
   "cell_type": "markdown",
   "metadata": {},
   "source": [
    "## Lesson 2"
   ]
  },
  {
   "cell_type": "code",
   "execution_count": null,
   "metadata": {
    "collapsed": true
   },
   "outputs": [],
   "source": [
    "# prints first five lines\n",
    ".head()"
   ]
  },
  {
   "cell_type": "code",
   "execution_count": null,
   "metadata": {
    "collapsed": true
   },
   "outputs": [],
   "source": [
    "# prints last five lines\n",
    ".tail()"
   ]
  },
  {
   "cell_type": "code",
   "execution_count": null,
   "metadata": {
    "collapsed": true
   },
   "outputs": [],
   "source": [
    "# to print column names\n",
    "for x in data.columns.values:\n",
    "    print x"
   ]
  },
  {
   "cell_type": "markdown",
   "metadata": {},
   "source": [
    "### iloc vs loc vs ix\n",
    "\n",
    "loc - label based  \n",
    "iloc - position based  \n",
    "ix usually tries to behave like loc but falls back to behaving like iloc if the label is not in the index.  \n",
    "\n",
    "(row selection, column selection)"
   ]
  },
  {
   "cell_type": "code",
   "execution_count": null,
   "metadata": {
    "collapsed": false
   },
   "outputs": [],
   "source": [
    "# For NaN values\n",
    "\n",
    ".isnull()\n",
    ".dropna()"
   ]
  },
  {
   "cell_type": "code",
   "execution_count": null,
   "metadata": {
    "collapsed": true
   },
   "outputs": [],
   "source": [
    "# How to get values from a specific column\n",
    "print data['Ozone'].mean()\n",
    "\n",
    "# How to get specific values for greater/less than\n",
    "print data[(data.Ozone > 31) & (data.Temp > 90)].head()\n",
    "\n",
    "# How to get a specific value\n",
    "print data[data.Month==6].Temp.mean()"
   ]
  },
  {
   "cell_type": "markdown",
   "metadata": {},
   "source": [
    "## Lesson 3"
   ]
  },
  {
   "cell_type": "markdown",
   "metadata": {},
   "source": [
    "Methods available include:  \n",
    ".min() - Compute minimum value  \n",
    ".max() - Compute maximum value  \n",
    ".mean() - Compute mean value  \n",
    ".median() - Compute median value  \n",
    ".mode() - Compute mode value(s)  \n",
    ".count() - Count the number of observations  \n",
    ".std() - Compute Standard Deviation  \n",
    ".var() - Compute variance  \n",
    ".describe() - Get a summary of the data  \n",
    ".corr() - Get correlation matrix"
   ]
  },
  {
   "cell_type": "code",
   "execution_count": null,
   "metadata": {
    "collapsed": true
   },
   "outputs": [],
   "source": [
    "# Get quartiles\n",
    "print df.quantile(.50) \n",
    "print df.quantile(0.25)\n",
    "print df.quantile(0.75)"
   ]
  },
  {
   "cell_type": "code",
   "execution_count": null,
   "metadata": {
    "collapsed": true
   },
   "outputs": [],
   "source": [
    "# Box Plot\n",
    "df.plot(kind=\"box\")\n",
    "df['example1'].plot(kind='box')"
   ]
  },
  {
   "cell_type": "markdown",
   "metadata": {},
   "source": [
    "## Lesson 4"
   ]
  },
  {
   "cell_type": "code",
   "execution_count": null,
   "metadata": {
    "collapsed": true
   },
   "outputs": [],
   "source": [
    "# print the shape of the DataFrame\n",
    "data.shape\n",
    "(number of rows, number of columns)"
   ]
  },
  {
   "cell_type": "code",
   "execution_count": null,
   "metadata": {
    "collapsed": true
   },
   "outputs": [],
   "source": [
    "# Create a scatter plot\n",
    "data.plot(kind='scatter', x='TV', y='Sales', ax=axs[0], figsize=(16, 8))"
   ]
  },
  {
   "cell_type": "code",
   "execution_count": null,
   "metadata": {
    "collapsed": true
   },
   "outputs": [],
   "source": [
    "# this is the standard import if you're using \"formula notation\" (similar to R)\n",
    "import statsmodels.formula.api as smf\n",
    "\n",
    "# create a fitted model in one line\n",
    "#formula notiation is the equivalent to writting out our models such that 'outcome = predictor'\n",
    "#with the follwing syntax formula = 'outcome ~ predictor1 + predictor2 ... predictorN'\n",
    "lm = smf.ols(formula='Sales ~ TV', data=data).fit()\n",
    "\n",
    "#print the full summary\n",
    "lm.summary()"
   ]
  },
  {
   "cell_type": "code",
   "execution_count": null,
   "metadata": {
    "collapsed": false
   },
   "outputs": [],
   "source": [
    "# You want a p-value that's less than 0.05 for it to be statistically significant.\n",
    "# The higher the r-squared, the better. \n",
    "\n",
    "# What does a 95% CI indicate? \n",
    "Answer: That if we repeated this study 100 times our point estimte would lie within that range 95 times"
   ]
  },
  {
   "cell_type": "markdown",
   "metadata": {},
   "source": [
    "## Lesson 5"
   ]
  },
  {
   "cell_type": "markdown",
   "metadata": {},
   "source": [
    "A linear regression is an explanation of a continuous variable given a series of independent variables. In it's simplest form, a linear regression reminds us of a basic algebraic function - a line of best fit:\n",
    "\n",
    "y = mx + b\n",
    "\n",
    "However, the power of a linear regression is that we can use linear algebra to explain multiple x's together in order to explain y:\n",
    "\n",
    "y = betas * X + alpha (+ error)\n",
    "\n",
    "Our terminology is now:\n",
    "\n",
    "Given a matrix X, their relative coefficients beta, and a y-intercept alpha, explain a dependent vector, y.\n",
    "\n",
    "coefficient - a numerical or constant quantity placed before and multiplying the variable in an algebraic expression, such as 4 in 4x."
   ]
  },
  {
   "cell_type": "markdown",
   "metadata": {},
   "source": [
    "====\n",
    "\n",
    "A linear regression works best when:\n",
    "* The data is normally distributed (but doesn't have to be)\n",
    "* The Xs significantly explain y (have low p-values)\n",
    "* The Xs are independent of each other (low multicollinearity)\n",
    "* The resulting values passes linear assumptions (dependent on problem)"
   ]
  },
  {
   "cell_type": "code",
   "execution_count": null,
   "metadata": {
    "collapsed": false
   },
   "outputs": [],
   "source": [
    "# matplotlib and seaborn are used for graphs\n",
    "\n",
    "# create a matplotlib figure\n",
    "plt.figure()\n",
    "# generate a scatterplot inside the figure\n",
    "plt.plot(mammals.bodywt, mammals.brainwt, '.')\n",
    "# show the plot\n",
    "plt.show()"
   ]
  },
  {
   "cell_type": "code",
   "execution_count": null,
   "metadata": {
    "collapsed": true
   },
   "outputs": [],
   "source": [
    "# lmplot returns a straight line\n",
    "# This generate a plot of a single variable linear model of brain weight given body weight:\n",
    "sns.lmplot('bodywt', 'brainwt', mammals)"
   ]
  },
  {
   "cell_type": "code",
   "execution_count": null,
   "metadata": {
    "collapsed": true
   },
   "outputs": [],
   "source": [
    "# Because both values are a log-log distribution, some math properties allow us to transform \n",
    "# them into normal distributions.\n",
    "\n",
    "# Create a new data set that converts all numeric variables into log10\n",
    "log_columns = ['bodywt', 'brainwt',]\n",
    "log_mammals = mammals.copy()\n",
    "log_mammals[log_columns] = log_mammals[log_columns].apply(np.log10)\n",
    "\n",
    "g = sns.lmplot('bodywt', 'brainwt', log_mammals)\n",
    "g.set_axis_labels( \"Log Body Weight\", \"Log Brain Weight\")\n",
    "\n",
    "# Even though we changed the way the data was shaped, this is still a linear result: \n",
    "# it's just linear in the log10 of the data, instead of in the data's natural state."
   ]
  },
  {
   "cell_type": "code",
   "execution_count": null,
   "metadata": {
    "collapsed": true
   },
   "outputs": [],
   "source": [
    "# Fills all NaN values with whatever number you want\n",
    ".fillna(10)"
   ]
  },
  {
   "cell_type": "markdown",
   "metadata": {},
   "source": [
    "### OLS (Ordinary Least Squares)\n",
    "\n",
    "Below, OLS is done behind-the-scenes to produce the regression equation. The constants in the regression---called 'betas'---are what OLS spits out. \n",
    "\n",
    "Error is the difference between prediction and reality: the vertical distance between a real data point and the regression line. OLS is concerned with the squares of the errors. It tries to find the line going through the sample data that minimizes the sum of the squared errors."
   ]
  },
  {
   "cell_type": "markdown",
   "metadata": {},
   "source": [
    "### Betas\n",
    "\n",
    "Betas are the constants in the regression, the intercept and the slope. \n",
    "\n",
    "The intercept is the value of Y when X is 0.  \n",
    "The slope is also known as the regression coefficient.   \n",
    "Residual = the error"
   ]
  },
  {
   "cell_type": "code",
   "execution_count": null,
   "metadata": {
    "collapsed": true
   },
   "outputs": [],
   "source": [
    "# Fit regression model \n",
    "Something = smf.ols(formula=' ', data=XX).fit()"
   ]
  },
  {
   "cell_type": "code",
   "execution_count": null,
   "metadata": {
    "collapsed": true
   },
   "outputs": [],
   "source": [
    "# Predict value\n",
    "10**lm.predict(X_new.apply(np.log10))"
   ]
  },
  {
   "cell_type": "code",
   "execution_count": null,
   "metadata": {
    "collapsed": true
   },
   "outputs": [],
   "source": [
    "# Data.ColumnName.function\n",
    "# bike_data.weathersit.value_counts()\n",
    ".value_counts() - Number of times a value appears"
   ]
  },
  {
   "cell_type": "markdown",
   "metadata": {},
   "source": [
    "### Confusion Matrix"
   ]
  },
  {
   "cell_type": "markdown",
   "metadata": {},
   "source": [
    "With precision, we're interested in producing a high amount of relevancy instead of irrelevancy. With recall, we're interesting in seeing how well a model returns specific data (literally, checking whether the model can recall what a class label looked like).\n",
    "\n",
    "Imagine predicting a marble color either green or red. There are 10 of each. If the model identifies 8 of the green marbles as green, the recall, or sensitivity, is .8. However, this says nothing about the number of red marbles that are also identified as green.\n",
    "\n",
    "Since the model predicted 8 of the green marbles as green, then precision would be 1, because all marbles predicted as green were in fact green. The precision of red marbles (assuming all red marbles were correct, and 2 green were predicted as red) would be roughly 0.833: 10 / (10 + 2)"
   ]
  }
 ],
 "metadata": {
  "kernelspec": {
   "display_name": "Python [Root]",
   "language": "python",
   "name": "Python [Root]"
  },
  "language_info": {
   "codemirror_mode": {
    "name": "ipython",
    "version": 2
   },
   "file_extension": ".py",
   "mimetype": "text/x-python",
   "name": "python",
   "nbconvert_exporter": "python",
   "pygments_lexer": "ipython2",
   "version": "2.7.12"
  }
 },
 "nbformat": 4,
 "nbformat_minor": 0
}
